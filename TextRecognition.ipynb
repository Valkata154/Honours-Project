{
 "cells": [
  {
   "cell_type": "markdown",
   "id": "f1bd23e8",
   "metadata": {},
   "source": [
    "# Text Recognition through the use of Tesseract-OCR"
   ]
  },
  {
   "cell_type": "markdown",
   "id": "e31e10ec",
   "metadata": {},
   "source": [
    "#### This script recognizes text from images through the use of Optical Character Recognition (Tesseract). It uses a neural network subsystem configured as a text line recognizer. The script does transformations to the images, such as resizing them and making them gray, then extracts the text and saves it to an excel file for further processing and cleaning. The dataset used for the experiment is an \"Email\" dataset containing 291 images. However, the script also works will other datasets, containing invoices, license plates and other containing images of text."
   ]
  },
  {
   "cell_type": "markdown",
   "id": "aa3f147e",
   "metadata": {},
   "source": [
    "#### Installations"
   ]
  },
  {
   "cell_type": "code",
   "execution_count": 17,
   "id": "ea2100a7",
   "metadata": {},
   "outputs": [],
   "source": [
    "# For output cleaning\n",
    "from IPython.display import clear_output\n",
    "\n",
    "# Remove the comments in order to perform the necessary installations!\n",
    "\n",
    "#!pip install opencv-python\n",
    "#!pip install numpy\n",
    "#!pip install pytesseract\n",
    "#!pip install pandas\n",
    "\n",
    "# Clear the output\n",
    "clear_output()"
   ]
  },
  {
   "cell_type": "markdown",
   "id": "5dafac1d",
   "metadata": {},
   "source": [
    "#### Imports"
   ]
  },
  {
   "cell_type": "code",
   "execution_count": 18,
   "id": "5df3e0bb",
   "metadata": {},
   "outputs": [],
   "source": [
    "# Import the necessary libraries.\n",
    "\n",
    "import os\n",
    "import cv2\n",
    "import numpy as np\n",
    "import pytesseract\n",
    "import pandas as pd\n",
    "\n",
    "# To use Tesseract OCR it must be installed separately \n",
    "# and the location bellow must be changed to the appropriate one on your pc.\n",
    "# More information on how to install Tesseract can be found here:\n",
    "# https://tesseract-ocr.github.io/tessdoc/Installation.html\n",
    "\n",
    "# Tesseract location\n",
    "pytesseract.pytesseract.tesseract_cmd = 'C:/Program Files/Tesseract-OCR/tesseract.exe'\n",
    "\n",
    "# Clear the output\n",
    "clear_output()"
   ]
  },
  {
   "cell_type": "markdown",
   "id": "7ecb3e10",
   "metadata": {},
   "source": [
    "#### Email text recognition through Tesseract OCR "
   ]
  },
  {
   "cell_type": "markdown",
   "id": "d5552d20",
   "metadata": {},
   "source": [
    "The following code will do image transformations to each image,\n",
    "then through Tesseract extract the text from the image\n",
    "and save it to an excel file for further processing and cleaning."
   ]
  },
  {
   "cell_type": "code",
   "execution_count": 21,
   "id": "d79e255c",
   "metadata": {},
   "outputs": [],
   "source": [
    "# Open Email Dataset folder\n",
    "dr = 'D:/OCR_Datasets/RealWorldDocumentsCollections/email'\n",
    "\n",
    "# Create dataframe\n",
    "df = pd.DataFrame(columns = ['FileName', 'Text'])\n",
    "\n",
    "# Populate the dataset\n",
    "# Loop through all files in the directory \n",
    "for file in os.listdir(dr):\n",
    "    # Check if file is image\n",
    "    if file.endswith(\".jpg\") or file.endswith(\".png\") or file.endwith(\".jpeg\"):\n",
    "        \n",
    "        # Get image\n",
    "        image = cv2.imread(os.path.join(dr, file))\n",
    "\n",
    "        # Resize the image, through cubic interpolation for higher quality \n",
    "        image = cv2.resize(image, None, fx=1.2, fy=1.2, interpolation=cv2.INTER_CUBIC)\n",
    "\n",
    "        # Convert image to GrayScale\n",
    "        image = cv2.cvtColor(image, cv2.COLOR_BGR2GRAY)\n",
    "\n",
    "        # Apply erosion and dilation to remove noise\n",
    "        k = np.ones((1, 1), np.uint8)\n",
    "        image = cv2.erode(image, k, iterations = 1)\n",
    "        image = cv2.dilate(image, k, iterations = 1)\n",
    "\n",
    "        # Apply median blur through adaptive threshold for areas that have changed lighting \n",
    "        cv2.adaptiveThreshold(cv2.medianBlur(image, 3), 255, cv2.ADAPTIVE_THRESH_GAUSSIAN_C, cv2.THRESH_BINARY, 31, 2)\n",
    "\n",
    "        # Read text from image through Tesseract\n",
    "        text = pytesseract.image_to_string(image)\n",
    "        \n",
    "        # Append to dataframe\n",
    "        df = df.append({'FileName': file, 'Text': text}, ignore_index = True)\n",
    "    # Skip if file is not an image\n",
    "    else:\n",
    "        continue"
   ]
  },
  {
   "cell_type": "markdown",
   "id": "06811bdf",
   "metadata": {},
   "source": [
    "#### Save for further processing and data cleaning."
   ]
  },
  {
   "cell_type": "code",
   "execution_count": 22,
   "id": "2d29f40a",
   "metadata": {},
   "outputs": [],
   "source": [
    "# Save dataframe as excel file\n",
    "# Location and sheet name can be changed as preffered \n",
    "df.to_excel(\"D:/Email_Output.xlsx\", sheet_name='Email_Dataset')"
   ]
  }
 ],
 "metadata": {
  "kernelspec": {
   "display_name": "Python 3 (ipykernel)",
   "language": "python",
   "name": "python3"
  },
  "language_info": {
   "codemirror_mode": {
    "name": "ipython",
    "version": 3
   },
   "file_extension": ".py",
   "mimetype": "text/x-python",
   "name": "python",
   "nbconvert_exporter": "python",
   "pygments_lexer": "ipython3",
   "version": "3.8.5"
  }
 },
 "nbformat": 4,
 "nbformat_minor": 5
}
