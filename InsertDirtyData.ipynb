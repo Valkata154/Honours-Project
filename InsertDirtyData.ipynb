{
 "cells": [
  {
   "cell_type": "markdown",
   "id": "ca63bdd6",
   "metadata": {},
   "source": [
    "# Inserting Dirty Data"
   ]
  },
  {
   "cell_type": "markdown",
   "id": "871eba15",
   "metadata": {},
   "source": [
    "#### This script is used to add erroneous data to the Tweets Dataset. For the experiment a sample of 1000 (rows) English records will be used. The data that will be added will be approximately 10% (or 100 rows) per error type. 9 error types will be inserted, 8 of them are based on the taxonomy described in Appendix A in the Dissertation. The errors types are:\n",
    "    1. Wrong data type errors. \n",
    "    2. Negative number representation errors.\n",
    "    3. Extraoneous data.\n",
    "    4. Swapped row ordering.\n",
    "    5. Data into wrong fields.\n",
    "    6. Duplicated data.\n",
    "    7. Misspelled data.\n",
    "    8. Special character errors.\n",
    "    9. Inconsistent data."
   ]
  },
  {
   "cell_type": "markdown",
   "id": "005e53e7",
   "metadata": {},
   "source": [
    "#### Installations"
   ]
  },
  {
   "cell_type": "code",
   "execution_count": 14,
   "id": "a664ec35",
   "metadata": {},
   "outputs": [],
   "source": [
    "# For output cleaning\n",
    "from IPython.display import clear_output\n",
    "\n",
    "# Remove the comments in order to perform the necessary installations!\n",
    "\n",
    "#!pip install numpy\n",
    "#!pip install pandas\n",
    "#!pip install re\n",
    "\n",
    "# Clear the output\n",
    "clear_output()"
   ]
  },
  {
   "cell_type": "markdown",
   "id": "0fcfa2e3",
   "metadata": {},
   "source": [
    "#### Imports"
   ]
  },
  {
   "cell_type": "code",
   "execution_count": 2,
   "id": "aa141185",
   "metadata": {},
   "outputs": [],
   "source": [
    "# Import the necessary libraries.\n",
    "import pandas as pd\n",
    "import re \n",
    "\n",
    "# Clear the output\n",
    "clear_output()"
   ]
  },
  {
   "cell_type": "markdown",
   "id": "24ac96bb",
   "metadata": {},
   "source": [
    "Read Tweets file."
   ]
  },
  {
   "cell_type": "code",
   "execution_count": 3,
   "id": "a19c7410",
   "metadata": {},
   "outputs": [],
   "source": [
    "# Read the 1000 english Tweets sample.\n",
    "# Change file location if needed.\n",
    "df = pd.read_csv('D:\\TweetCSV\\Tweets1000', nrows=1651)"
   ]
  },
  {
   "cell_type": "markdown",
   "id": "13a30739",
   "metadata": {},
   "source": [
    "#### Insert wrong data type errors (2.1.1.1.1.1 in the taxonomy), String instead of Bool"
   ]
  },
  {
   "cell_type": "code",
   "execution_count": 4,
   "id": "e40883e1",
   "metadata": {},
   "outputs": [],
   "source": [
    "count = 0\n",
    "# Loop through a sample of the dataframe\n",
    "# The sample will be with random rows and only 10% of the dataframe (100 rows)\n",
    "for index, row in df.sample(frac = 0.1).iterrows():\n",
    "    # Further split the dataframe into 4, to add different errors \n",
    "    if count <= 25: \n",
    "        # True\n",
    "        if row['user_default_profile_image']:\n",
    "            df.loc[index, 'user_default_profile_image'] = \"T\"\n",
    "        # False\n",
    "        elif not row['user_default_profile_image']:\n",
    "            df.loc[index, 'user_default_profile_image'] = \"F\"\n",
    "    elif count >= 26 and count <= 50:\n",
    "        # True\n",
    "        if row['user_default_profile_image']:\n",
    "            df.loc[index, 'user_default_profile_image'] = \"true\"\n",
    "        # False\n",
    "        elif not row['user_default_profile_image']:\n",
    "            df.loc[index, 'user_default_profile_image'] = \"false\"\n",
    "    elif count >= 51 and count <= 75: \n",
    "        # True\n",
    "        if row['user_default_profile_image']:\n",
    "            df.loc[index, 'user_default_profile_image'] = \"True\"\n",
    "        # False\n",
    "        elif not row['user_default_profile_image']:\n",
    "            df.loc[index, 'user_default_profile_image'] = \"False\"\n",
    "    elif count >= 76 and count <= 100:\n",
    "        # True\n",
    "        if row['user_default_profile_image']:\n",
    "            df.loc[index, 'user_default_profile_image'] = \"1\"\n",
    "        # False\n",
    "        elif not row['user_default_profile_image']:\n",
    "            df.loc[index, 'user_default_profile_image'] = \"0\"\n",
    "    count += 1"
   ]
  },
  {
   "cell_type": "markdown",
   "id": "0244a120",
   "metadata": {},
   "source": [
    "#### Insert negative number representations errors (2.2.3.1.2.2 in the taxonomy), Making numbers negative"
   ]
  },
  {
   "cell_type": "code",
   "execution_count": 5,
   "id": "0b87f57a",
   "metadata": {},
   "outputs": [],
   "source": [
    "# Loop through a sample of the dataframe\n",
    "# The sample will be with random rows and only 10% of the dataframe (100 rows)\n",
    "for index, row in df.sample(frac = 0.1).iterrows():\n",
    "    # If the number is not 0 swap it with its negative representation \n",
    "    if row['retweet_count'] != 0:\n",
    "        df.loc[index, 'retweet_count'] = -abs(row['retweet_count'])\n",
    "    # If 0 retweets then swap it with -1 \n",
    "    else:\n",
    "        df.loc[index, 'retweet_count'] = -1"
   ]
  },
  {
   "cell_type": "markdown",
   "id": "6918d43d",
   "metadata": {},
   "source": [
    "#### Inserting extraneous data (2.1.2.1.1.3 in the taxonomy)"
   ]
  },
  {
   "cell_type": "code",
   "execution_count": 6,
   "id": "926ec6d9",
   "metadata": {},
   "outputs": [],
   "source": [
    "# Loop through a sample of the dataframe\n",
    "# The sample will be with random rows and only 10% of the dataframe (100 rows)\n",
    "for index, row in df.sample(frac = 0.1).iterrows():\n",
    "    # Add user_ids to the begining of the user_created_at column \n",
    "    combined = str(df.loc[index, 'user_id']) + ' ' + df.loc[index, 'user_created_at']\n",
    "    df.loc[index, 'user_created_at'] = combined\n",
    "    # Leave user_id's blank\n",
    "    df.loc[index, 'user_id'] = \"\""
   ]
  },
  {
   "cell_type": "markdown",
   "id": "951e7bc9",
   "metadata": {},
   "source": [
    "#### Swap orderings in the rows (2.2.3.2.1.3 in the taxonomy), Changing order"
   ]
  },
  {
   "cell_type": "code",
   "execution_count": 7,
   "id": "43230be7",
   "metadata": {},
   "outputs": [],
   "source": [
    "# Loop through a sample of the dataframe\n",
    "# The sample will be with random rows and only 10% of the dataframe (100 rows)\n",
    "for index, row in df.sample(frac = 0.1).iterrows():\n",
    "    arr = row['created_at'].split(' ')\n",
    "    arr[0], arr[1], arr[2], arr[3], arr[4], arr[5] = arr[3], arr[4], arr[5], arr[0], arr[1], arr[2]\n",
    "    df.loc[index, 'created_at'] =  ' '.join(arr)"
   ]
  },
  {
   "cell_type": "markdown",
   "id": "8af66d81",
   "metadata": {},
   "source": [
    "#### Inserting data into wrong fields (2.1.2.1.2.1 in the taxonomy)"
   ]
  },
  {
   "cell_type": "code",
   "execution_count": 8,
   "id": "c2e93a01",
   "metadata": {},
   "outputs": [],
   "source": [
    "# Loop through a sample of the dataframe\n",
    "# The sample will be with random rows and only 10% of the dataframe (100 rows)\n",
    "for index, row in df.sample(frac = 0.1).iterrows():\n",
    "    # Swap the source annd created_at entries \n",
    "    temp = df.loc[index, 'source']\n",
    "    df.loc[index, 'source'] = df.loc[index, 'created_at']\n",
    "    df.loc[index, 'created_at'] = temp"
   ]
  },
  {
   "cell_type": "markdown",
   "id": "b3e0391d",
   "metadata": {},
   "source": [
    "#### Inserting duplicated data (2.1.1.1.1.3 in the taxonomy)"
   ]
  },
  {
   "cell_type": "code",
   "execution_count": 9,
   "id": "affe8753",
   "metadata": {},
   "outputs": [],
   "source": [
    "# Loop through a sample of the dataframe\n",
    "# The sample will be with random rows and only 10% of the dataframe (100 rows)\n",
    "for index, row in df.sample(frac = 0.1).iterrows():\n",
    "    if index != 0 and index != 1 and index != 2:\n",
    "        df.loc[index, 'user_id'] = df.loc[index - 2, 'user_id']\n",
    "    else:\n",
    "        df.loc[index, 'user_id'] = df.loc[index + 2, 'user_id']"
   ]
  },
  {
   "cell_type": "markdown",
   "id": "65386136",
   "metadata": {},
   "source": [
    "#### Inserting misspellings (2.1.2.1.1.2 in the taxonomy), Adding misspelled data"
   ]
  },
  {
   "cell_type": "code",
   "execution_count": 10,
   "id": "b672b99b",
   "metadata": {},
   "outputs": [],
   "source": [
    "# Loop through a sample of the dataframe\n",
    "# The sample will be with random rows and only 10% of the dataframe (100 rows)\n",
    "for index, row in df.sample(frac = 0.1).iterrows():\n",
    "    s = df.loc[index, 'user_created_at'].split()\n",
    "    # Normal date time \n",
    "    if len(s) == 6:\n",
    "        # Monday\n",
    "        if s[0] == \"Mon\":\n",
    "            s[0] = \"Man\"\n",
    "        # Tuesday\n",
    "        elif s[0] == \"Tue\":\n",
    "            s[0] = \"Tur\"\n",
    "        # Wednesday\n",
    "        elif s[0] == \"Wed\":\n",
    "            s[0] = \"Wid\"\n",
    "        # Thursday\n",
    "        elif s[0] == \"Thu\":\n",
    "            s[0] = \"Tha\"\n",
    "        # Friday\n",
    "        elif s[0] == \"Fri\":\n",
    "            s[0] = \"Fra\"\n",
    "        # Saturday\n",
    "        elif s[0] == \"Sat\":\n",
    "            s[0] = \"Set\"\n",
    "        # Sunday\n",
    "        elif s[0] == \"Sun\":\n",
    "            s[0] = \"Sen\"\n",
    "    # Date time with user_id\n",
    "    else:\n",
    "        # Monday\n",
    "        if s[1] == \"Mon\":\n",
    "            s[1] = \"Man\"\n",
    "        # Tuesday\n",
    "        elif s[1] == \"Tue\":\n",
    "            s[1] = \"Tur\"\n",
    "        # Wednesday\n",
    "        elif s[1] == \"Wed\":\n",
    "            s[1] = \"Wid\"\n",
    "        # Thursday\n",
    "        elif s[1] == \"Thu\":\n",
    "            s[1] = \"Tha\"\n",
    "        # Friday\n",
    "        elif s[1] == \"Fri\":\n",
    "            s[1] = \"Fra\"\n",
    "        # Saturday\n",
    "        elif s[1] == \"Sat\":\n",
    "            s[1] = \"Set\"\n",
    "        # Sunday\n",
    "        elif s[1] == \"Sun\":\n",
    "            s[1] = \"Sen\"\n",
    "    \n",
    "    df.loc[index, 'user_created_at'] =  ' '.join(s)"
   ]
  },
  {
   "cell_type": "markdown",
   "id": "09d45fd6",
   "metadata": {},
   "source": [
    "#### Inserting special characters (2.2.3.2.1.2 in the taxonomy), Adding special characters to the data"
   ]
  },
  {
   "cell_type": "code",
   "execution_count": 11,
   "id": "8fdc5186",
   "metadata": {},
   "outputs": [],
   "source": [
    "# Function to split the number \n",
    "def split(word):\n",
    "    return list(word)\n",
    "\n",
    "# Loop through a sample of the dataframe\n",
    "# The sample will be with random rows and only 10% of the dataframe (100 rows)\n",
    "for index, row in df.sample(frac = 0.1).iterrows():\n",
    "    if len(str(row['user_favourites_count'])) > 1:\n",
    "        s = str(row['user_favourites_count'])\n",
    "        length = 0\n",
    "        arr = split(s)\n",
    "        \n",
    "        # Get middle of array\n",
    "        if len(arr) % 2 != 0:\n",
    "            length = int(len(arr) / 2 - .5)\n",
    "        else:\n",
    "            length = int(len(arr) / 2)\n",
    "        \n",
    "        # Insert special character near the middle\n",
    "        arr.insert(length, \"-\")\n",
    "        \n",
    "        df.loc[index, 'user_favourites_count'] = \"\".join(arr)"
   ]
  },
  {
   "cell_type": "markdown",
   "id": "d8d91f57",
   "metadata": {},
   "source": [
    "#### Inserting inconsistent data (not in the taxonomy)"
   ]
  },
  {
   "cell_type": "code",
   "execution_count": 12,
   "id": "c158d86d",
   "metadata": {},
   "outputs": [],
   "source": [
    "count = 0\n",
    "# Loop through a sample of the dataframe\n",
    "# The sample will be with random rows and only 10% of the dataframe (100 rows)\n",
    "for index, row in df.sample(frac = 0.1).iterrows():\n",
    "    if count <= 25: \n",
    "        if row['lang']:\n",
    "            df.loc[index, 'lang'] = \"ENGLISH\"\n",
    "    elif count >= 26 and count <= 50:\n",
    "        if row['lang']:\n",
    "            df.loc[index, 'lang'] = \"English\"\n",
    "    elif count >= 51 and count <= 75: \n",
    "        if row['lang']:\n",
    "            df.loc[index, 'lang'] = \"eng\"\n",
    "    elif count >= 76 and count <= 100:\n",
    "        if row['lang']:\n",
    "            df.loc[index, 'lang'] = \"english\"\n",
    "    # Increment count        \n",
    "    count += 1"
   ]
  },
  {
   "cell_type": "markdown",
   "id": "1715f20d",
   "metadata": {},
   "source": [
    "#### Save the dataframe to an excel file."
   ]
  },
  {
   "cell_type": "code",
   "execution_count": 13,
   "id": "56e65f1a",
   "metadata": {},
   "outputs": [],
   "source": [
    "# Save\n",
    "# Change file location if needed.\n",
    "df.to_excel(\"D:\\DirtyTweetsDataset.xlsx\")"
   ]
  }
 ],
 "metadata": {
  "kernelspec": {
   "display_name": "Python 3 (ipykernel)",
   "language": "python",
   "name": "python3"
  },
  "language_info": {
   "codemirror_mode": {
    "name": "ipython",
    "version": 3
   },
   "file_extension": ".py",
   "mimetype": "text/x-python",
   "name": "python",
   "nbconvert_exporter": "python",
   "pygments_lexer": "ipython3",
   "version": "3.8.5"
  }
 },
 "nbformat": 4,
 "nbformat_minor": 5
}
